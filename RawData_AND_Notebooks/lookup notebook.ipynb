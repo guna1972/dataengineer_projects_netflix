{
 "cells": [
  {
   "cell_type": "markdown",
   "metadata": {
    "application/vnd.databricks.v1+cell": {
     "cellMetadata": {},
     "inputWidgets": {},
     "nuid": "3fdc67d6-95ee-4750-a850-29aeb13d2d64",
     "showTitle": false,
     "tableResultSettingsMap": {},
     "title": ""
    }
   },
   "source": [
    "array parameters\n"
   ]
  },
  {
   "cell_type": "code",
   "execution_count": 0,
   "metadata": {
    "application/vnd.databricks.v1+cell": {
     "cellMetadata": {
      "byteLimit": 2048000,
      "rowLimit": 10000
     },
     "inputWidgets": {},
     "nuid": "1dcd0546-a868-4e11-922e-e18784bff121",
     "showTitle": false,
     "tableResultSettingsMap": {},
     "title": ""
    }
   },
   "outputs": [],
   "source": [
    "files=[\n",
    "{\n",
    "    \"sourcefolder\":\"netflix_directors\",\n",
    "    \"targetfolder\":\"netflix_directors\"\n",
    "},\n",
    "{\n",
    "    \"sourcefolder\":\"netflix_cast\",\n",
    "    \"targetfolder\":\"netflix_cast\"\n",
    "},\n",
    "{\n",
    "    \"sourcefolder\":\"netflix_countries\",\n",
    "    \"targetfolder\":\"netflix_countries\"\n",
    "},\n",
    "{\n",
    "    \"sourcefolder\":\"netflix_category\",\n",
    "    \"targetfolder\":\"netflix_category\"\n",
    "},\n",
    "\n",
    "\n",
    "]"
   ]
  },
  {
   "cell_type": "markdown",
   "metadata": {
    "application/vnd.databricks.v1+cell": {
     "cellMetadata": {},
     "inputWidgets": {},
     "nuid": "a29a2c6a-1ed1-4750-ab75-963ea12e5d6c",
     "showTitle": false,
     "tableResultSettingsMap": {},
     "title": ""
    }
   },
   "source": [
    "job utilities to return array\n"
   ]
  },
  {
   "cell_type": "code",
   "execution_count": 0,
   "metadata": {
    "application/vnd.databricks.v1+cell": {
     "cellMetadata": {
      "byteLimit": 2048000,
      "rowLimit": 10000
     },
     "inputWidgets": {},
     "nuid": "16ba2f3f-477e-4978-98dc-875e5fa217ee",
     "showTitle": false,
     "tableResultSettingsMap": {},
     "title": ""
    }
   },
   "outputs": [],
   "source": [
    "%python\n",
    "dbutils.jobs.taskValues.set(key=\"my_array\", value=files)"
   ]
  }
 ],
 "metadata": {
  "application/vnd.databricks.v1+notebook": {
   "computePreferences": null,
   "dashboards": [],
   "environmentMetadata": {
    "base_environment": "",
    "environment_version": "2"
   },
   "language": "python",
   "notebookMetadata": {
    "pythonIndentUnit": 4
   },
   "notebookName": "lookup notebook",
   "widgets": {}
  },
  "language_info": {
   "name": "python"
  }
 },
 "nbformat": 4,
 "nbformat_minor": 0
}